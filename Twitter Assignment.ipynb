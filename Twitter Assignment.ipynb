{
 "cells": [
  {
   "cell_type": "code",
   "execution_count": 1,
   "id": "626a3b5a",
   "metadata": {},
   "outputs": [],
   "source": [
    "import tweepy\n",
    "auth = tweepy.OAuthHandler(\"jwc6IYlv3HEfIzcRhu4K7GUT1\", \"AWD0d3aRKt3HHfAPe3oV8xnq2MIvL1zFlWX0Sa0Xm1g6hmjdZX\")\n",
    "auth.set_access_token(\"1335153296365875201-KGvNr9iJNqjITaz0lBL2STQfnMhqnT\", \"hpUawKvoOgKcDNzZ1ToDFrs4wbBWoFJveOintgGzrUx7e\")\n",
    "api = tweepy.API(auth)"
   ]
  },
  {
   "cell_type": "code",
   "execution_count": 2,
   "id": "8e8fc38b",
   "metadata": {},
   "outputs": [
    {
     "name": "stdout",
     "output_type": "stream",
     "text": [
      "What a beauty…..\n",
      "\n",
      "@JourneyLabel \n",
      "@theleelagoa\n",
      "\n",
      "#TheLeelaGoa #TheLeela #MyLeelaGoa #LeelaMoments #ItsTimeForGoa… https://t.co/j3WDYgVKiG\n",
      "Chalo chalo jaldi se uth jao, Uth ke naha lo, naha ke  khana khao, Kha ke kaam pe jao, fir vapas ghar aao. Arre arr… https://t.co/WH6L5tbal3\n",
      "What a day ! ❤️\n",
      "Happy Navraatr \n",
      "Ramdan Mubarak \n",
      "Happy Gudi Padwa\n",
      "Happy Ugadi\n",
      "Happy Cheti Chand \n",
      "\n",
      "My heart swells wi… https://t.co/v8IfKLPsxM\n",
      "#GARI PANDA NFT - the  official mascot for gari nft marketplace is revolutionising the web space &amp; how!!! Aaj hi LI… https://t.co/mFNr9grNTz\n",
      "Aim to be healthy  , and lift others along https://t.co/39pcoDpxu1\n",
      "#VikrantRona in 3D on July 28 in cinemas worldwide. @Alankar_Pandian @shivakumarart @AJANEESHB @williamdaviddop… https://t.co/Wso8flERSG\n",
      "The world will witness the glory of #VikrantRona in 3D on July 28, 2022. Looks out of the world @KicchaSudeep wishi… https://t.co/PFMasMnzEW\n",
      "Today’s progress 🐣 https://t.co/fHXU0xiDUD\n",
      "Hmmm…. https://t.co/P2TANBIVWc\n",
      "\"LETS FACE IT\" https://t.co/kJEgXJ68PQ\n",
      "Ajj kya karing ????\n",
      "@IIFA @yasisland @VisitAbuDhabi  @NexaExperience  @EaseMyTrip\n",
      "Ready for a weekend of fun, entertainment and everything Bollywood? I am! \n",
      "Buy your tickets now from… https://t.co/XmKm37yHQc\n",
      "RT @TheShilpaShetty: It wasn’t a boring day, and there were definitely no boring people🤪🤣\n",
      "Episode 3 of #PintolaShapeOfYou is out now. To wa…\n",
      "#HimeshReshamiya @IuliaVantur #HaiderKhan \n",
      "#ShamiraahKhan #Adityadev #DesignerLehenga\n",
      "Presenting a new track ‘Designer Lehenga’ composed  by super rockstar #HimeshReshammiya and written by… https://t.co/ItgvVOjCU1\n",
      "#Wanderlust still wondering 🤓 @MXPlayer https://t.co/FcqaaJ5rmR\n",
      "Give your home the inner strength of a Tiger!\n",
      "Let's get Ready to Roar with the launch of S-E-L TIGER RE-BARS from t… https://t.co/SnMVq3cKXF\n",
      "#MemoriesandDiscoveries 🤪 https://t.co/WWbsfncXsH\n"
     ]
    }
   ],
   "source": [
    "tweets = api.home_timeline()\n",
    "for tweet in tweets:\n",
    "    print(tweet.text)"
   ]
  },
  {
   "cell_type": "code",
   "execution_count": null,
   "id": "2322ec88",
   "metadata": {},
   "outputs": [],
   "source": []
  }
 ],
 "metadata": {
  "kernelspec": {
   "display_name": "Python 3 (ipykernel)",
   "language": "python",
   "name": "python3"
  },
  "language_info": {
   "codemirror_mode": {
    "name": "ipython",
    "version": 3
   },
   "file_extension": ".py",
   "mimetype": "text/x-python",
   "name": "python",
   "nbconvert_exporter": "python",
   "pygments_lexer": "ipython3",
   "version": "3.9.7"
  }
 },
 "nbformat": 4,
 "nbformat_minor": 5
}
